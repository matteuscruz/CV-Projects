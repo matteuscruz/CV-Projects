{
  "nbformat": 4,
  "nbformat_minor": 0,
  "metadata": {
    "colab": {
      "provenance": []
    },
    "kernelspec": {
      "name": "python3",
      "display_name": "Python 3"
    },
    "language_info": {
      "name": "python"
    },
    "accelerator": "GPU",
    "gpuClass": "standard"
  },
  "cells": [
    {
      "cell_type": "code",
      "source": [
        "from torch import nn, save, load\n",
        "from torch.optim import Adam\n",
        "from torch.utils.data import DataLoader\n",
        "from torchvision import datasets\n",
        "from torchvision.transforms import ToTensor"
      ],
      "metadata": {
        "id": "BCJiUKfK2Gop"
      },
      "execution_count": 1,
      "outputs": []
    },
    {
      "cell_type": "code",
      "source": [
        "%%capture\n",
        "train = datasets.MNIST(root='/content', download=True, \n",
        "                        train=True, transform=ToTensor())\n",
        "\n",
        "dataset = DataLoader(train, 32)"
      ],
      "metadata": {
        "id": "ufTRRPay7Jhv"
      },
      "execution_count": 2,
      "outputs": []
    },
    {
      "cell_type": "code",
      "source": [
        "class ImageClassifier(nn.Module):\n",
        "  def __init__(self):\n",
        "    super().__init__()\n",
        "    self.model = nn.Sequential(\n",
        "        nn.Conv2d(1, 32, (3,3)), # Input Chanel, Shape, Kernel\n",
        "        nn.ReLU(),\n",
        "        nn.Conv2d(32, 64, (3,3)),\n",
        "        nn.ReLU(),\n",
        "        nn.Conv2d(64, 64, (3,3)),\n",
        "        nn.ReLU(),\n",
        "        nn.Flatten(),\n",
        "        nn.Linear(64 * (28-6) * (28-6), 10)\n",
        "\n",
        "    )\n",
        "\n",
        "  def forward(self, x):\n",
        "    return self.model(x)"
      ],
      "metadata": {
        "id": "sWLaY8dg7oe2"
      },
      "execution_count": 3,
      "outputs": []
    },
    {
      "cell_type": "code",
      "source": [
        "clf = ImageClassifier().to('cuda')\n",
        "opt = Adam(clf.parameters(), lr=1e-3)\n",
        "loss_fn = nn.CrossEntropyLoss()"
      ],
      "metadata": {
        "id": "Mp46_91z-7iN"
      },
      "execution_count": 4,
      "outputs": []
    },
    {
      "cell_type": "code",
      "source": [
        "if __name__ == '__main__':\n",
        "  for epoch in range(10):\n",
        "    for batch in dataset:\n",
        "      X, y = batch\n",
        "      X, y = X.to('cuda'), y.to('cuda')\n",
        "      yhat = clf(X)\n",
        "      loss = loss_fn(yhat, y)\n",
        "\n",
        "      # Backpropagation\n",
        "      opt.zero_grad()\n",
        "      loss.backward()\n",
        "      opt.step()\n",
        "\n",
        "    # Visualization\n",
        "    print(f\"Epoch: {epoch} loss is {loss.item()}\")\n",
        "\n",
        "  with open('model_state.pt', 'wb') as f:\n",
        "    save(clf.state_dict(), f)"
      ],
      "metadata": {
        "colab": {
          "base_uri": "https://localhost:8080/"
        },
        "id": "spamu2hj_UNl",
        "outputId": "aa756a9c-4083-4f0c-ce9b-54c784e6e451"
      },
      "execution_count": 5,
      "outputs": [
        {
          "output_type": "stream",
          "name": "stdout",
          "text": [
            "Epoch: 0 loss is 0.0213587898761034\n",
            "Epoch: 1 loss is 0.0042461068369448185\n",
            "Epoch: 2 loss is 0.00234182458370924\n",
            "Epoch: 3 loss is 0.000462794560007751\n",
            "Epoch: 4 loss is 0.00015365681611001492\n",
            "Epoch: 5 loss is 0.0014855499612167478\n",
            "Epoch: 6 loss is 6.202309123182204e-06\n",
            "Epoch: 7 loss is 3.41706327162683e-05\n",
            "Epoch: 8 loss is 1.4118555782260955e-06\n",
            "Epoch: 9 loss is 3.356361503392691e-06\n"
          ]
        }
      ]
    }
  ]
}