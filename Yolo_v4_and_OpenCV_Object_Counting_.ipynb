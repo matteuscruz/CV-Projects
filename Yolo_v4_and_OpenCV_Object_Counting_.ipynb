{
  "nbformat": 4,
  "nbformat_minor": 0,
  "metadata": {
    "colab": {
      "provenance": []
    },
    "kernelspec": {
      "name": "python3",
      "display_name": "Python 3"
    },
    "language_info": {
      "name": "python"
    }
  },
  "cells": [
    {
      "cell_type": "code",
      "execution_count": null,
      "metadata": {
        "id": "GsWQGcOQKdfK"
      },
      "outputs": [],
      "source": [
        "%%capture\n",
        "!pip install cvlib"
      ]
    },
    {
      "cell_type": "code",
      "source": [
        "import cv2\n",
        "import numpy as np\n",
        "import matplotlib.pyplot as plt\n",
        "import cvlib as cv\n",
        "from cvlib.object_detection import draw_bbox\n",
        "from numpy.lib.polynomial import poly"
      ],
      "metadata": {
        "id": "3vrBv5IDKeIa"
      },
      "execution_count": null,
      "outputs": []
    },
    {
      "cell_type": "code",
      "source": [
        "%%capture\n",
        "!wget https://engineeringlearn.com/wp-content/uploads/2022/08/Ships.jpg"
      ],
      "metadata": {
        "id": "VyHtj2DKKe3N"
      },
      "execution_count": null,
      "outputs": []
    },
    {
      "cell_type": "code",
      "source": [
        "image = cv2.imread(\"Ships.jpg\")"
      ],
      "metadata": {
        "id": "r-KCuRveKg1A"
      },
      "execution_count": null,
      "outputs": []
    },
    {
      "cell_type": "code",
      "source": [
        "box, label, count = cv.detect_common_objects(image)\n",
        "output = output = draw_bbox(image, box, label, count)"
      ],
      "metadata": {
        "id": "H_qMHcL6KiA5"
      },
      "execution_count": null,
      "outputs": []
    },
    {
      "cell_type": "code",
      "source": [
        "plt.imshow(output)\n",
        "plt.show()\n",
        "print(\"Number of ships in this image are \" +str(label.count('boat')))"
      ],
      "metadata": {
        "id": "hMW_9Id6Ki-B"
      },
      "execution_count": null,
      "outputs": []
    }
  ]
}